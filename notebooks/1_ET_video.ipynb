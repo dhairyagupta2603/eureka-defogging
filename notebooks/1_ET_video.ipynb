{
 "cells": [
  {
   "cell_type": "code",
   "execution_count": 25,
   "metadata": {},
   "outputs": [],
   "source": [
    "import os\n",
    "import numpy as np\n",
    "import cv2\n",
    "\n",
    "import image_dehazer"
   ]
  },
  {
   "cell_type": "code",
   "execution_count": 2,
   "metadata": {},
   "outputs": [
    {
     "data": {
      "text/plain": [
       "'../data/video'"
      ]
     },
     "execution_count": 2,
     "metadata": {},
     "output_type": "execute_result"
    }
   ],
   "source": [
    "data_path = os.path.join('..', 'data', 'video')\n",
    "data_path"
   ]
  },
  {
   "cell_type": "code",
   "execution_count": null,
   "metadata": {},
   "outputs": [],
   "source": []
  },
  {
   "cell_type": "code",
   "execution_count": 26,
   "metadata": {},
   "outputs": [],
   "source": [
    "capture = cv2.VideoCapture(os.path.join(data_path, 'foggy_dashcam1.mp4'))\n",
    "\n",
    "FPS = capture.get(cv2.CAP_PROP_FPS)\n",
    "HEIGHT = int(capture.get(cv2.CAP_PROP_FRAME_HEIGHT))\n",
    "WIDTH = int(capture.get(cv2.CAP_PROP_FRAME_WIDTH))\n",
    "COUNT = int(capture.get(cv2.CAP_PROP_FRAME_COUNT))\n",
    "\n",
    "for frame_id in range(COUNT):\n",
    "    ret, frame = capture.read()\n",
    "    if ret:\n",
    "        frame = cv2.resize(frame, (WIDTH//4, HEIGHT//4))\n",
    "        frame_corr, hazemap = image_dehazer.remove_haze(frame)\n",
    "        cv2.imshow(\"Dashcam Video\", frame_corr)\n",
    "    else:\n",
    "        print(\"ERROR\")\n",
    "    if cv2.waitKey(10) & 0xFF == ord('q'):\n",
    "        break\n",
    "\n",
    "cv2.destroyAllWindows()\n",
    "capture.release()"
   ]
  }
 ],
 "metadata": {
  "kernelspec": {
   "display_name": "env",
   "language": "python",
   "name": "python3"
  },
  "language_info": {
   "codemirror_mode": {
    "name": "ipython",
    "version": 3
   },
   "file_extension": ".py",
   "mimetype": "text/x-python",
   "name": "python",
   "nbconvert_exporter": "python",
   "pygments_lexer": "ipython3",
   "version": "3.11.4"
  },
  "orig_nbformat": 4
 },
 "nbformat": 4,
 "nbformat_minor": 2
}
